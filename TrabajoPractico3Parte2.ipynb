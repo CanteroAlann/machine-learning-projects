{
  "nbformat": 4,
  "nbformat_minor": 0,
  "metadata": {
    "colab": {
      "provenance": [],
      "mount_file_id": "126JgKJrlWUC1ShPsgGrie2oSC0G1DU4I",
      "authorship_tag": "ABX9TyOZtvEDjQheGBrHcxFT/AB5",
      "include_colab_link": true
    },
    "kernelspec": {
      "name": "python3",
      "display_name": "Python 3"
    },
    "language_info": {
      "name": "python"
    }
  },
  "cells": [
    {
      "cell_type": "markdown",
      "metadata": {
        "id": "view-in-github",
        "colab_type": "text"
      },
      "source": [
        "<a href=\"https://colab.research.google.com/github/CanteroAlann/machine-learning-projects/blob/main/TrabajoPractico3Parte2.ipynb\" target=\"_parent\"><img src=\"https://colab.research.google.com/assets/colab-badge.svg\" alt=\"Open In Colab\"/></a>"
      ]
    },
    {
      "cell_type": "code",
      "source": [
        "!pip install --upgrade category_encoders"
      ],
      "metadata": {
        "id": "y-SGS8oAdlxu",
        "colab": {
          "base_uri": "https://localhost:8080/"
        },
        "outputId": "740c4dc8-a0ab-40a5-976c-b6b93f5eb3df"
      },
      "execution_count": null,
      "outputs": [
        {
          "output_type": "stream",
          "name": "stdout",
          "text": [
            "Looking in indexes: https://pypi.org/simple, https://us-python.pkg.dev/colab-wheels/public/simple/\n",
            "Collecting category_encoders\n",
            "  Downloading category_encoders-2.5.0-py2.py3-none-any.whl (69 kB)\n",
            "\u001b[K     |████████████████████████████████| 69 kB 2.9 MB/s \n",
            "\u001b[?25hRequirement already satisfied: patsy>=0.5.1 in /usr/local/lib/python3.7/dist-packages (from category_encoders) (0.5.2)\n",
            "Requirement already satisfied: numpy>=1.14.0 in /usr/local/lib/python3.7/dist-packages (from category_encoders) (1.21.6)\n",
            "Requirement already satisfied: statsmodels>=0.9.0 in /usr/local/lib/python3.7/dist-packages (from category_encoders) (0.10.2)\n",
            "Requirement already satisfied: scikit-learn>=0.20.0 in /usr/local/lib/python3.7/dist-packages (from category_encoders) (1.0.2)\n",
            "Requirement already satisfied: scipy>=1.0.0 in /usr/local/lib/python3.7/dist-packages (from category_encoders) (1.4.1)\n",
            "Requirement already satisfied: pandas>=1.0.5 in /usr/local/lib/python3.7/dist-packages (from category_encoders) (1.3.5)\n",
            "Requirement already satisfied: python-dateutil>=2.7.3 in /usr/local/lib/python3.7/dist-packages (from pandas>=1.0.5->category_encoders) (2.8.2)\n",
            "Requirement already satisfied: pytz>=2017.3 in /usr/local/lib/python3.7/dist-packages (from pandas>=1.0.5->category_encoders) (2022.1)\n",
            "Requirement already satisfied: six in /usr/local/lib/python3.7/dist-packages (from patsy>=0.5.1->category_encoders) (1.15.0)\n",
            "Requirement already satisfied: threadpoolctl>=2.0.0 in /usr/local/lib/python3.7/dist-packages (from scikit-learn>=0.20.0->category_encoders) (3.1.0)\n",
            "Requirement already satisfied: joblib>=0.11 in /usr/local/lib/python3.7/dist-packages (from scikit-learn>=0.20.0->category_encoders) (1.1.0)\n",
            "Installing collected packages: category-encoders\n",
            "Successfully installed category-encoders-2.5.0\n"
          ]
        }
      ]
    },
    {
      "cell_type": "code",
      "execution_count": null,
      "metadata": {
        "id": "cpHKG2EQz6Su",
        "colab": {
          "base_uri": "https://localhost:8080/"
        },
        "outputId": "2bc12b74-120d-4863-c2b0-1a8227964e1c"
      },
      "outputs": [
        {
          "output_type": "stream",
          "name": "stderr",
          "text": [
            "/usr/local/lib/python3.7/dist-packages/statsmodels/tools/_testing.py:19: FutureWarning: pandas.util.testing is deprecated. Use the functions in the public API at pandas.testing instead.\n",
            "  import pandas.util.testing as tm\n"
          ]
        }
      ],
      "source": [
        "import pandas as pd \n",
        "from sklearn.model_selection import train_test_split\n",
        "from sklearn.model_selection import RandomizedSearchCV\n",
        "from sklearn.preprocessing import OneHotEncoder\n",
        "from sklearn.preprocessing import LabelBinarizer\n",
        "from sklearn.feature_extraction.text import  CountVectorizer\n",
        "from category_encoders import TargetEncoder\n",
        "from sklearn.ensemble import RandomForestClassifier\n",
        "from sklearn.metrics import mean_absolute_error, mean_absolute_percentage_error\n",
        "from sklearn.metrics import roc_auc_score\n",
        "import seaborn as sns \n",
        "import matplotlib.pyplot as plt"
      ]
    },
    {
      "cell_type": "code",
      "source": [
        "train_df=pd.read_parquet('/content/drive/MyDrive/tp3 orga/train')"
      ],
      "metadata": {
        "id": "oTS0jbVd0yO2"
      },
      "execution_count": null,
      "outputs": []
    },
    {
      "cell_type": "code",
      "source": [
        "train_df['popular'] = train_df['popular'].transform(lambda x : int(x))"
      ],
      "metadata": {
        "id": "MunUEJMhE_l_"
      },
      "execution_count": null,
      "outputs": []
    },
    {
      "cell_type": "code",
      "source": [
        "test_df = pd.read_parquet('/content/drive/MyDrive/tp3 orga/test')\n",
        "test_df['popular'] = test_df['popular'].transform(lambda x : int(x))"
      ],
      "metadata": {
        "id": "ULohyiFk01a9"
      },
      "execution_count": null,
      "outputs": []
    },
    {
      "cell_type": "code",
      "source": [
        "#dividimos el dataset usando la siguiente condicion \n",
        "mask_train = train_df['timedelta'] > 120\n",
        "X_train = train_df[mask_train]\n",
        "X_valid = train_df[~mask_train]\n",
        "y_train = X_train[X_train.columns[-2]]\n",
        "y_valid = X_valid[X_valid.columns[-2]]\n",
        "X_train.drop(columns=['popular','shares','timedelta','url'],inplace=True)\n",
        "X_valid.drop(columns=['popular','shares','timedelta','url'],inplace=True)"
      ],
      "metadata": {
        "id": "uBnf_63oFVuc"
      },
      "execution_count": null,
      "outputs": []
    },
    {
      "cell_type": "markdown",
      "source": [
        "Hay algunas columnas que tienen nulls en caso de valores numericos los reemplazaremos por la media de  los valores tanto en train como en test "
      ],
      "metadata": {
        "id": "tkvSpebMIEJe"
      }
    },
    {
      "cell_type": "code",
      "source": [
        "#calculo la mediana para los valores numericos\n",
        "title_subjectivity_median = X_train['title_subjectivity'].median()\n",
        "abs_title_median = X_train['abs_title_subjectivity'].median()\n",
        "max_positive_polarity_median = X_train['max_positive_polarity'].median()\n",
        "n_tokens_title_median=X_train['n_tokens_title'].median()\n",
        "n_tokens_content_median=X_train['n_tokens_content'].median()\n",
        "n_unique_tokens_median=X_train['n_unique_tokens'].median()\n",
        "num_videos_media=X_train['num_videos'].median()\n",
        "n_non_stop_words_median=X_train['n_non_stop_words'].median()\n",
        "n_non_stop_unique_tokens_median =X_train['n_non_stop_unique_tokens'].median()\n",
        "num_hrefs_median=X_train['num_hrefs'].median()\n",
        "num_self_hrefs_median = X_train['num_self_hrefs'].median()\n",
        "num_imgs_median=X_train['num_imgs'].median()\n",
        "num_keywords_median=X_train['num_keywords'].median()\n",
        "kw_min_min_median=X_train['kw_min_min'].median()\n",
        "kw_max_min_median=X_train['kw_max_min'].median()\n",
        "kw_avg_min_median=X_train['kw_avg_min'].median()\n",
        "kw_min_max_median=X_train['kw_min_max'].median()\n",
        "kw_max_max_median=X_train['kw_max_max'].median()\n",
        "kw_min_avg_median=X_train['kw_min_avg'].median()\n",
        "self_reference_avg_sharess_median=X_train['self_reference_avg_sharess'].median()\n",
        "LDA_00_median=X_train['LDA_00'].median()\n",
        "LDA_01_median=X_train['LDA_01'].median()\n",
        "LDA_02_median=X_train['LDA_02'].median()\n",
        "LDA_03_median=X_train['LDA_03'].median()\n",
        "global_sentiment_polarity_median=X_train['global_sentiment_polarity'].median()\n",
        "global_rate_positive_words_median=X_train['global_rate_positive_words'].median()\n",
        "global_rate_negative_words_median=X_train['global_rate_negative_words'].median()\n",
        "rate_positive_words_median=X_train['rate_positive_words'].median()\n",
        "rate_negative_words_median=X_train['rate_negative_words'].median()\n",
        "avg_positive_polarity_median=X_train['avg_positive_polarity'].median()\n",
        "avg_negative_polarity_median=X_train['avg_negative_polarity'].median()\n",
        "max_negative_polarity_median=X_train['max_negative_polarity'].median()\n",
        "min_negative_polarity_median=X_train['min_negative_polarity'].median()\n",
        "abs_title_sentiment_polarity_median=X_train['abs_title_sentiment_polarity'].median()"
      ],
      "metadata": {
        "id": "wW7DnzeAFYH8"
      },
      "execution_count": null,
      "outputs": []
    },
    {
      "cell_type": "code",
      "source": [
        "# reemplazamos en train \n",
        "X_train['title_subjectivity'].fillna(value=title_subjectivity_median,inplace=True)\n",
        "X_train['abs_title_subjectivity'].fillna(value=abs_title_median,inplace=True)\n",
        "X_train['max_positive_polarity'].fillna(value=max_positive_polarity_median,inplace=True)\n",
        "X_train['content'].fillna(value=\"\",inplace=True)\n",
        "X_train['n_tokens_title'].fillna(value=n_tokens_title_median,inplace=True)\n",
        "X_train['n_tokens_content'].fillna(value=n_tokens_content_median,inplace=True)\n",
        "X_train['n_unique_tokens'].fillna(value=n_unique_tokens_median,inplace=True)\n",
        "X_train['num_videos'].fillna(value=num_videos_media,inplace=True)\n",
        "X_train['n_non_stop_words'].fillna(value=n_non_stop_words_median,inplace=True)\n",
        "X_train['n_non_stop_unique_tokens'].fillna(value=n_non_stop_unique_tokens_median,inplace=True)\n",
        "X_train['num_hrefs'].fillna(value=num_hrefs_median,inplace=True)\n",
        "X_train['num_self_hrefs'].fillna(value=num_self_hrefs_median,inplace=True)\n",
        "X_train['num_imgs'].fillna(value=num_imgs_median,inplace=True)\n",
        "X_train['num_keywords'].fillna(value=num_keywords_median,inplace=True)\n",
        "X_train['kw_min_min'].fillna(value=kw_min_min_median,inplace=True)\n",
        "X_train['kw_max_min'].fillna(value=kw_max_min_median,inplace=True)\n",
        "X_train['kw_avg_min'].fillna(value=kw_avg_min_median,inplace=True)\n",
        "X_train['kw_min_max'].fillna(value=kw_min_max_median,inplace=True)\n",
        "X_train['kw_max_max'].fillna(value=kw_max_max_median,inplace=True)\n",
        "X_train['kw_min_avg'].fillna(value=kw_min_avg_median,inplace=True)\n",
        "X_train['self_reference_avg_sharess'].fillna(value=self_reference_avg_sharess_median,inplace=True)\n",
        "X_train['LDA_00'].fillna(value=LDA_00_median,inplace=True)\n",
        "X_train['LDA_01'].fillna(value=LDA_01_median,inplace=True)\n",
        "X_train['LDA_02'].fillna(value=LDA_02_median,inplace=True)\n",
        "X_train['LDA_03'].fillna(value=LDA_03_median,inplace=True)\n",
        "X_train['global_sentiment_polarity'].fillna(value=global_sentiment_polarity_median,inplace=True)\n",
        "X_train['global_rate_positive_words'].fillna(value=global_rate_positive_words_median,inplace=True)\n",
        "X_train['global_rate_negative_words'].fillna(value=global_rate_negative_words_median,inplace=True)\n",
        "X_train['rate_positive_words'].fillna(value=rate_positive_words_median,inplace=True)\n",
        "X_train['rate_negative_words'].fillna(value=rate_negative_words_median,inplace=True)\n",
        "X_train['avg_positive_polarity'].fillna(value=avg_positive_polarity_median,inplace=True)\n",
        "X_train['avg_negative_polarity'].fillna(value=avg_negative_polarity_median,inplace=True)\n",
        "X_train['max_negative_polarity'].fillna(value=max_negative_polarity_median,inplace=True)\n",
        "X_train['min_negative_polarity'].fillna(value=min_negative_polarity_median,inplace=True)\n",
        "X_train['abs_title_sentiment_polarity'].fillna(value=abs_title_sentiment_polarity_median,inplace=True)\n",
        "#Reemplazamos en valid\n",
        "X_valid['n_unique_tokens'].fillna(value=n_unique_tokens_median,inplace=True)\n",
        "X_valid['LDA_01'].fillna(value=LDA_01_median,inplace=True)\n",
        "X_valid['global_rate_negative_words'].fillna(value=global_rate_negative_words_median,inplace=True)\n",
        "X_valid['max_positive_polarity'].fillna(value=max_positive_polarity_median,inplace=True)\n",
        "X_valid['max_negative_polarity'].fillna(value=max_negative_polarity_median,inplace=True) \n",
        "#Reemplazamos en test \n",
        "test_df['LDA_00'].fillna(value=LDA_00_median,inplace=True)\n",
        "test_df['LDA_01'].fillna(value=LDA_01_median,inplace=True)\n",
        "test_df['LDA_03'].fillna(value=LDA_01_median,inplace=True)\n",
        "test_df['global_rate_positive_words'].fillna(value=global_rate_positive_words_median,inplace=True)\n",
        "test_df['rate_negative_words'].fillna(value=rate_negative_words_median,inplace=True)\n",
        "test_df['content'].fillna(value=\"\",inplace=True)"
      ],
      "metadata": {
        "id": "BJ7aN7K8FnCz"
      },
      "execution_count": null,
      "outputs": []
    },
    {
      "cell_type": "code",
      "source": [
        "# imputacion de nulos para variables nominales \n",
        "def nominal_nulls(column,columns_names,dataset):\n",
        "  nulls_index = dataset.index[dataset[column].isnull()].to_list()\n",
        "  for index in nulls_index:\n",
        "    for name in columns_names:\n",
        "      if dataset.loc[index,name]:\n",
        "        dataset.at[index,column] = 0.0\n",
        "      else:\n",
        "        dataset.at[index,column] = 1.0"
      ],
      "metadata": {
        "id": "LhHpTA4cF30f"
      },
      "execution_count": null,
      "outputs": []
    },
    {
      "cell_type": "code",
      "source": [
        "channels_list = list([\"data_channel_is_lifestyle\",\"data_channel_is_entertainment\",\"data_channel_is_bus\",\"data_channel_is_socmed\",\"data_channel_is_tech\",\"data_channel_is_world\"])\n",
        "days_list = list(['weekday_is_monday','weekday_is_tuesday','weekday_is_wednesday','weekday_is_thursday','weekday_is_friday','weekday_is_saturday','weekday_is_sunday'])"
      ],
      "metadata": {
        "id": "pXdE23MNF9xT"
      },
      "execution_count": null,
      "outputs": []
    },
    {
      "cell_type": "code",
      "source": [
        "nominal_nulls('data_channel_is_bus',channels_list,X_train)\n",
        "nominal_nulls('data_channel_is_socmed',channels_list,X_train)\n",
        "nominal_nulls('data_channel_is_tech',channels_list,X_train)\n",
        "nominal_nulls('weekday_is_monday',days_list,X_train)\n",
        "nominal_nulls('weekday_is_tuesday',days_list,X_train)\n",
        "nominal_nulls('weekday_is_wednesday',days_list,X_train)\n",
        "nominal_nulls('weekday_is_friday',days_list,X_train)\n",
        "nominal_nulls('weekday_is_saturday',days_list,X_train)\n",
        "nominal_nulls('weekday_is_thursday',days_list,test_df)"
      ],
      "metadata": {
        "id": "krVuv8zZGBrF"
      },
      "execution_count": null,
      "outputs": []
    },
    {
      "cell_type": "code",
      "source": [
        "#dividimos el set de test\n",
        "X_test = test_df.drop(columns=['popular','shares','timedelta','url'])\n",
        "y_test = test_df[test_df.columns[-2]]"
      ],
      "metadata": {
        "id": "en1zdY0lGHAK"
      },
      "execution_count": null,
      "outputs": []
    },
    {
      "cell_type": "code",
      "source": [
        "ohe_surprise1 = OneHotEncoder(drop='first')\n",
        "encoded_surprise1 = ohe_surprise1.fit_transform(X_train[['surprise1']]).todense().astype(int)\n",
        "encoded_surprise1_valid = ohe_surprise1.transform(X_valid[['surprise1']]).todense().astype(int)\n",
        "encoded_surprise1_test = ohe_surprise1.transform(X_test[['surprise1']]).todense().astype(int)"
      ],
      "metadata": {
        "id": "1vg4fXPQGTT5"
      },
      "execution_count": null,
      "outputs": []
    },
    {
      "cell_type": "code",
      "source": [
        "count_vectorizer = CountVectorizer(lowercase=True,max_features=100,stop_words='english')\n",
        "encoded_content = count_vectorizer.fit_transform(X_train['content']).toarray()\n",
        "encoded_content_valid = count_vectorizer.transform(X_valid['content']).toarray()\n",
        "encoded_content_test = count_vectorizer.transform(X_test['content']).toarray()"
      ],
      "metadata": {
        "id": "kvVMo7BYGebW"
      },
      "execution_count": null,
      "outputs": []
    },
    {
      "cell_type": "code",
      "source": [
        "X_train.content=encoded_content\n",
        "X_valid.content=encoded_content_valid\n",
        "X_test.content=encoded_content_test"
      ],
      "metadata": {
        "id": "eXGLG3-qGmy2"
      },
      "execution_count": null,
      "outputs": []
    },
    {
      "cell_type": "code",
      "source": [
        "X_train.surprise1 = encoded_surprise1\n",
        "X_valid.surprise1 = encoded_surprise1_valid\n",
        "X_test.surprise1 = encoded_surprise1_test"
      ],
      "metadata": {
        "id": "zIZcBfGmGwj_"
      },
      "execution_count": null,
      "outputs": []
    },
    {
      "cell_type": "code",
      "source": [
        "bin_enc_surprise2 = LabelBinarizer()\n",
        "encoded_surprise2 = bin_enc_surprise2.fit_transform(X_train['surprise2'])\n",
        "encoded_valid_surprise2 = bin_enc_surprise2.transform(X_valid['surprise2'])\n",
        "encoded_test_surprise2 = bin_enc_surprise2.transform(X_test['surprise2'])"
      ],
      "metadata": {
        "id": "fWLzONqpG0nh"
      },
      "execution_count": null,
      "outputs": []
    },
    {
      "cell_type": "code",
      "source": [
        "X_train.surprise2 = encoded_surprise2\n",
        "X_valid.surprise2 = encoded_valid_surprise2\n",
        "X_test.surprise2 = encoded_test_surprise2"
      ],
      "metadata": {
        "id": "BDvKuGQRG5lP"
      },
      "execution_count": null,
      "outputs": []
    },
    {
      "cell_type": "markdown",
      "source": [
        "probando busqueda de hiper - parametros "
      ],
      "metadata": {
        "id": "FvlDlaPcNBBY"
      }
    },
    {
      "cell_type": "code",
      "source": [
        "from sklearn.model_selection import GridSearchCV\n",
        "param_grid = {\n",
        "    'bootstrap': [True],\n",
        "    'max_depth': [5,10,20,30,50],\n",
        "    'criterion' : ['gini', 'entropy', 'log_loss'],\n",
        "    'min_samples_leaf': [3, 4, 5],\n",
        "    'min_samples_split': [2,4,6,8],\n",
        "    'n_estimators': [5,20,30,40,100,150]\n",
        "}\n",
        "\n",
        "rf = RandomForestClassifier(random_state=20)\n",
        "grid_search = GridSearchCV(estimator = rf, param_grid = param_grid, \n",
        "                          cv = 2, n_jobs = -1,scoring='roc_auc')"
      ],
      "metadata": {
        "id": "o6gXbQOiREvc"
      },
      "execution_count": null,
      "outputs": []
    },
    {
      "cell_type": "code",
      "source": [
        "grid_search.fit(X_train,y_train)"
      ],
      "metadata": {
        "id": "v8sSNJdlRKUM",
        "colab": {
          "base_uri": "https://localhost:8080/"
        },
        "outputId": "32b3d207-ac7b-493d-82c8-9834d7dfc7b4"
      },
      "execution_count": null,
      "outputs": [
        {
          "output_type": "stream",
          "name": "stderr",
          "text": [
            "/usr/local/lib/python3.7/dist-packages/sklearn/model_selection/_validation.py:372: FitFailedWarning: \n",
            "720 fits failed out of a total of 2160.\n",
            "The score on these train-test partitions for these parameters will be set to nan.\n",
            "If these failures are not expected, you can try to debug them by setting error_score='raise'.\n",
            "\n",
            "Below are more details about the failures:\n",
            "--------------------------------------------------------------------------------\n",
            "720 fits failed with the following error:\n",
            "Traceback (most recent call last):\n",
            "  File \"/usr/local/lib/python3.7/dist-packages/sklearn/model_selection/_validation.py\", line 680, in _fit_and_score\n",
            "    estimator.fit(X_train, y_train, **fit_params)\n",
            "  File \"/usr/local/lib/python3.7/dist-packages/sklearn/ensemble/_forest.py\", line 467, in fit\n",
            "    for i, t in enumerate(trees)\n",
            "  File \"/usr/local/lib/python3.7/dist-packages/joblib/parallel.py\", line 1043, in __call__\n",
            "    if self.dispatch_one_batch(iterator):\n",
            "  File \"/usr/local/lib/python3.7/dist-packages/joblib/parallel.py\", line 861, in dispatch_one_batch\n",
            "    self._dispatch(tasks)\n",
            "  File \"/usr/local/lib/python3.7/dist-packages/joblib/parallel.py\", line 779, in _dispatch\n",
            "    job = self._backend.apply_async(batch, callback=cb)\n",
            "  File \"/usr/local/lib/python3.7/dist-packages/joblib/_parallel_backends.py\", line 208, in apply_async\n",
            "    result = ImmediateResult(func)\n",
            "  File \"/usr/local/lib/python3.7/dist-packages/joblib/_parallel_backends.py\", line 572, in __init__\n",
            "    self.results = batch()\n",
            "  File \"/usr/local/lib/python3.7/dist-packages/joblib/parallel.py\", line 263, in __call__\n",
            "    for func, args, kwargs in self.items]\n",
            "  File \"/usr/local/lib/python3.7/dist-packages/joblib/parallel.py\", line 263, in <listcomp>\n",
            "    for func, args, kwargs in self.items]\n",
            "  File \"/usr/local/lib/python3.7/dist-packages/sklearn/utils/fixes.py\", line 216, in __call__\n",
            "    return self.function(*args, **kwargs)\n",
            "  File \"/usr/local/lib/python3.7/dist-packages/sklearn/ensemble/_forest.py\", line 185, in _parallel_build_trees\n",
            "    tree.fit(X, y, sample_weight=curr_sample_weight, check_input=False)\n",
            "  File \"/usr/local/lib/python3.7/dist-packages/sklearn/tree/_classes.py\", line 942, in fit\n",
            "    X_idx_sorted=X_idx_sorted,\n",
            "  File \"/usr/local/lib/python3.7/dist-packages/sklearn/tree/_classes.py\", line 352, in fit\n",
            "    criterion = CRITERIA_CLF[self.criterion](\n",
            "KeyError: 'log_loss'\n",
            "\n",
            "  warnings.warn(some_fits_failed_message, FitFailedWarning)\n",
            "/usr/local/lib/python3.7/dist-packages/sklearn/model_selection/_search.py:972: UserWarning: One or more of the test scores are non-finite: [0.65714896 0.67421968 0.67704155 ...        nan        nan        nan]\n",
            "  category=UserWarning,\n"
          ]
        },
        {
          "output_type": "execute_result",
          "data": {
            "text/plain": [
              "GridSearchCV(cv=2, estimator=RandomForestClassifier(random_state=20), n_jobs=-1,\n",
              "             param_grid={'bootstrap': [True],\n",
              "                         'criterion': ['gini', 'entropy', 'log_loss'],\n",
              "                         'max_depth': [5, 10, 20, 30, 50],\n",
              "                         'min_samples_leaf': [3, 4, 5],\n",
              "                         'min_samples_split': [2, 4, 6, 8],\n",
              "                         'n_estimators': [5, 20, 30, 40, 100, 150]},\n",
              "             scoring='roc_auc')"
            ]
          },
          "metadata": {},
          "execution_count": 20
        }
      ]
    },
    {
      "cell_type": "code",
      "source": [
        "proba_preds = grid_search.predict_proba(X_valid)[:,1]"
      ],
      "metadata": {
        "id": "jZx6F5FefIJI"
      },
      "execution_count": null,
      "outputs": []
    },
    {
      "cell_type": "code",
      "source": [
        "roc_auc_score(y_valid,proba_preds)"
      ],
      "metadata": {
        "colab": {
          "base_uri": "https://localhost:8080/"
        },
        "id": "ihydIEkLfP_T",
        "outputId": "bfe2baef-43d1-4f1e-bb0c-27db2c2e6da5"
      },
      "execution_count": null,
      "outputs": [
        {
          "output_type": "execute_result",
          "data": {
            "text/plain": [
              "0.7389581751075934"
            ]
          },
          "metadata": {},
          "execution_count": 22
        }
      ]
    },
    {
      "cell_type": "markdown",
      "source": [
        "Probamos el modelo en test"
      ],
      "metadata": {
        "id": "sRDL68oeWwh0"
      }
    },
    {
      "cell_type": "code",
      "source": [
        "proba_test = grid_search.predict_proba(X_test)[:,1]\n",
        "roc_auc_score(y_test,proba_test)"
      ],
      "metadata": {
        "colab": {
          "base_uri": "https://localhost:8080/"
        },
        "id": "-7JUK5iVBSX8",
        "outputId": "f93e9320-c974-41f2-dc8e-e3793aafaf34"
      },
      "execution_count": null,
      "outputs": [
        {
          "output_type": "execute_result",
          "data": {
            "text/plain": [
              "0.7326510204062399"
            ]
          },
          "metadata": {},
          "execution_count": 26
        }
      ]
    },
    {
      "cell_type": "code",
      "source": [
        "probas = pd.Series(proba_test) "
      ],
      "metadata": {
        "id": "X_m4Dh3Eqr6l"
      },
      "execution_count": null,
      "outputs": []
    },
    {
      "cell_type": "code",
      "source": [
        "urls = test_df[test_df.columns[0]]"
      ],
      "metadata": {
        "id": "BqdpOac3pqRq"
      },
      "execution_count": null,
      "outputs": []
    },
    {
      "cell_type": "code",
      "source": [
        "urls\n"
      ],
      "metadata": {
        "id": "NOooqoh9p57B"
      },
      "execution_count": null,
      "outputs": []
    },
    {
      "cell_type": "code",
      "source": [
        "entrega=pd.DataFrame(zip(urls,probas),columns=['url','proba'])"
      ],
      "metadata": {
        "id": "nnzbV-JFCpYF"
      },
      "execution_count": null,
      "outputs": []
    },
    {
      "cell_type": "code",
      "source": [
        "entrega.to_csv('parte3.csv')"
      ],
      "metadata": {
        "id": "9qx9lQs5DC0M"
      },
      "execution_count": null,
      "outputs": []
    },
    {
      "cell_type": "markdown",
      "source": [
        "Parte del punto extra"
      ],
      "metadata": {
        "id": "s7KvjduHDoYm"
      }
    },
    {
      "cell_type": "code",
      "source": [
        "rf_graph = grid_search.best_estimator_"
      ],
      "metadata": {
        "id": "pnyGBr1M-mgO"
      },
      "execution_count": null,
      "outputs": []
    },
    {
      "cell_type": "code",
      "source": [
        "# genero una lista con los nombres de las features \n",
        "list_of_features = list(X_train.columns)\n",
        "list_of_features"
      ],
      "metadata": {
        "id": "dnjrBhoW_Er7"
      },
      "execution_count": null,
      "outputs": []
    },
    {
      "cell_type": "code",
      "source": [
        "# obtengo la importancias de cada feature \n",
        "values = rf_graph.feature_importances_ "
      ],
      "metadata": {
        "id": "-WmnCj9BAWzU"
      },
      "execution_count": null,
      "outputs": []
    },
    {
      "cell_type": "code",
      "source": [
        "df = pd.DataFrame(zip(list_of_features,values),columns=['feature','value'])"
      ],
      "metadata": {
        "id": "gff2fB3wYllu"
      },
      "execution_count": null,
      "outputs": []
    },
    {
      "cell_type": "code",
      "source": [
        "df.sort_values(by='value',ascending=False,inplace=True)"
      ],
      "metadata": {
        "id": "30h4cAkwY0us"
      },
      "execution_count": null,
      "outputs": []
    },
    {
      "cell_type": "code",
      "source": [
        "most_significative_columns =df.head(10)\n",
        "most_significative_columns"
      ],
      "metadata": {
        "id": "SyQTxMkCZCeb"
      },
      "execution_count": null,
      "outputs": []
    },
    {
      "cell_type": "code",
      "source": [
        "plt.figure(dpi=150)\n",
        "fig = sns.barplot(data=most_significative_columns , x='feature',y='value',color='blue')\n",
        "plt.xticks(rotation=85)\n",
        "plt.title('Importancia de las features\\n para Random Forest')\n",
        "plt.xlabel(\"Feature\")\n",
        "plt.ylabel(\"Coeficiente\")\n",
        "plt.savefig('visuParte3.jpg', dpi=200, bbox_inches='tight', pad_inches=0.5)"
      ],
      "metadata": {
        "colab": {
          "base_uri": "https://localhost:8080/",
          "height": 889
        },
        "id": "gTn6znx-azcv",
        "outputId": "f09c5602-995f-46fb-92da-17038a44b49f"
      },
      "execution_count": null,
      "outputs": [
        {
          "output_type": "display_data",
          "data": {
            "text/plain": [
              "<Figure size 900x600 with 1 Axes>"
            ],
            "image/png": "[encoded data removed]"
          },
          "metadata": {
            "needs_background": "light"
          }
        }
      ]
    }
  ]
}