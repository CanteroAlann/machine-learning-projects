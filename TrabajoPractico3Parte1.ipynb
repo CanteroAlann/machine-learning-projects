{
  "nbformat": 4,
  "nbformat_minor": 0,
  "metadata": {
    "colab": {
      "provenance": [],
      "mount_file_id": "1FeeVoDasYixoimxdvRsBTEtqX7OnL0-8",
      "authorship_tag": "ABX9TyNBeab6GvWE1a1YZrlEpE4P",
      "include_colab_link": true
    },
    "kernelspec": {
      "name": "python3",
      "display_name": "Python 3"
    },
    "language_info": {
      "name": "python"
    }
  },
  "cells": [
    {
      "cell_type": "markdown",
      "metadata": {
        "id": "view-in-github",
        "colab_type": "text"
      },
      "source": [
        "<a href=\"https://colab.research.google.com/github/CanteroAlann/machine-learning-projects/blob/main/TrabajoPractico3Parte1.ipynb\" target=\"_parent\"><img src=\"https://colab.research.google.com/assets/colab-badge.svg\" alt=\"Open In Colab\"/></a>"
      ]
    },
    {
      "cell_type": "code",
      "execution_count": null,
      "metadata": {
        "id": "11cO_88CGPCq"
      },
      "outputs": [],
      "source": [
        "import pandas as pd \n",
        "from sklearn.model_selection import train_test_split\n",
        "from sklearn.linear_model import LogisticRegression\n",
        "from sklearn.model_selection import RandomizedSearchCV\n",
        "from sklearn.preprocessing import OneHotEncoder\n",
        "from sklearn.feature_extraction.text import  CountVectorizer\n",
        "import numpy as np \n",
        "import seaborn as sns \n",
        "import matplotlib.pyplot as plt\n",
        "from sklearn.metrics import mean_absolute_error, mean_absolute_percentage_error\n",
        "from sklearn.metrics import classification_report\n",
        "from sklearn.metrics import roc_auc_score\n",
        "from sklearn.preprocessing import LabelBinarizer"
      ]
    },
    {
      "cell_type": "code",
      "source": [
        "train_df=pd.read_parquet('/content/drive/MyDrive/tp3 orga/train')"
      ],
      "metadata": {
        "id": "gBGBByjfGmPA"
      },
      "execution_count": null,
      "outputs": []
    },
    {
      "cell_type": "code",
      "source": [
        "train_df['popular'] = train_df['popular'].transform(lambda x : int(x))"
      ],
      "metadata": {
        "id": "5L8xyjgs3opq"
      },
      "execution_count": null,
      "outputs": []
    },
    {
      "cell_type": "code",
      "source": [
        "test_df = pd.read_parquet('/content/drive/MyDrive/tp3 orga/test')"
      ],
      "metadata": {
        "id": "di2FUSzLGm2O"
      },
      "execution_count": null,
      "outputs": []
    },
    {
      "cell_type": "code",
      "source": [
        "test_df['popular'] = test_df['popular'].transform(lambda x : int(x))"
      ],
      "metadata": {
        "id": "zh2_CgedWcLu"
      },
      "execution_count": null,
      "outputs": []
    },
    {
      "cell_type": "code",
      "source": [
        "test_df['timedelta'].value_counts()"
      ],
      "metadata": {
        "id": "cJK-jYpX5J9l"
      },
      "execution_count": null,
      "outputs": []
    },
    {
      "cell_type": "code",
      "source": [
        "#dividimos el dataset usando la siguiente condicion \n",
        "mask_train = train_df['timedelta'] > 120\n",
        "X_train = train_df[mask_train]\n",
        "X_valid = train_df[~mask_train]\n",
        "y_train = X_train[X_train.columns[-2]]\n",
        "y_valid = X_valid[X_valid.columns[-2]]"
      ],
      "metadata": {
        "id": "1IrT1jxO1ENO"
      },
      "execution_count": null,
      "outputs": []
    },
    {
      "cell_type": "code",
      "source": [
        "X_train.drop(columns=['popular','shares','timedelta','url'],inplace=True)\n",
        "X_valid.drop(columns=['popular','shares','timedelta','url'],inplace=True)"
      ],
      "metadata": {
        "id": "tQGbg7Bo4Iic"
      },
      "execution_count": null,
      "outputs": []
    },
    {
      "cell_type": "code",
      "source": [
        "#calculo la mediana para los valores numericos\n",
        "title_subjectivity_median = X_train['title_subjectivity'].median()\n",
        "abs_title_median = X_train['abs_title_subjectivity'].median()\n",
        "max_positive_polarity_median = X_train['max_positive_polarity'].median()\n",
        "n_tokens_title_median=X_train['n_tokens_title'].median()\n",
        "n_tokens_content_median=X_train['n_tokens_content'].median()\n",
        "n_unique_tokens_median=X_train['n_unique_tokens'].median()\n",
        "num_videos_media=X_train['num_videos'].median()\n",
        "n_non_stop_words_median=X_train['n_non_stop_words'].median()\n",
        "n_non_stop_unique_tokens_median =X_train['n_non_stop_unique_tokens'].median()\n",
        "num_hrefs_median=X_train['num_hrefs'].median()\n",
        "num_self_hrefs_median = X_train['num_self_hrefs'].median()\n",
        "num_imgs_median=X_train['num_imgs'].median()\n",
        "num_keywords_median=X_train['num_keywords'].median()\n",
        "kw_min_min_median=X_train['kw_min_min'].median()\n",
        "kw_max_min_median=X_train['kw_max_min'].median()\n",
        "kw_avg_min_median=X_train['kw_avg_min'].median()\n",
        "kw_min_max_median=X_train['kw_min_max'].median()\n",
        "kw_max_max_median=X_train['kw_max_max'].median()\n",
        "kw_min_avg_median=X_train['kw_min_avg'].median()\n",
        "self_reference_avg_sharess_median=X_train['self_reference_avg_sharess'].median()\n",
        "LDA_00_median=X_train['LDA_00'].median()\n",
        "LDA_01_median=X_train['LDA_01'].median()\n",
        "LDA_02_median=X_train['LDA_02'].median()\n",
        "LDA_03_median=X_train['LDA_03'].median()\n",
        "global_sentiment_polarity_median=X_train['global_sentiment_polarity'].median()\n",
        "global_rate_positive_words_median=X_train['global_rate_positive_words'].median()\n",
        "global_rate_negative_words_median=X_train['global_rate_negative_words'].median()\n",
        "rate_positive_words_median=X_train['rate_positive_words'].median()\n",
        "rate_negative_words_median=X_train['rate_negative_words'].median()\n",
        "avg_positive_polarity_median=X_train['avg_positive_polarity'].median()\n",
        "avg_negative_polarity_median=X_train['avg_negative_polarity'].median()\n",
        "max_negative_polarity_median=X_train['max_negative_polarity'].median()\n",
        "min_negative_polarity_median=X_train['min_negative_polarity'].median()\n",
        "abs_title_sentiment_polarity_median=X_train['abs_title_sentiment_polarity'].median()"
      ],
      "metadata": {
        "id": "2ASZ48zc-UWc"
      },
      "execution_count": null,
      "outputs": []
    },
    {
      "cell_type": "code",
      "source": [
        "# reemplazamos en train \n",
        "X_train['title_subjectivity'].fillna(value=title_subjectivity_median,inplace=True)\n",
        "X_train['abs_title_subjectivity'].fillna(value=abs_title_median,inplace=True)\n",
        "X_train['max_positive_polarity'].fillna(value=max_positive_polarity_median,inplace=True)\n",
        "X_train['content'].fillna(value=\"\",inplace=True)\n",
        "X_train['n_tokens_title'].fillna(value=n_tokens_title_median,inplace=True)\n",
        "X_train['n_tokens_content'].fillna(value=n_tokens_content_median,inplace=True)\n",
        "X_train['n_unique_tokens'].fillna(value=n_unique_tokens_median,inplace=True)\n",
        "X_train['num_videos'].fillna(value=num_videos_media,inplace=True)\n",
        "X_train['n_non_stop_words'].fillna(value=n_non_stop_words_median,inplace=True)\n",
        "X_train['n_non_stop_unique_tokens'].fillna(value=n_non_stop_unique_tokens_median,inplace=True)\n",
        "X_train['num_hrefs'].fillna(value=num_hrefs_median,inplace=True)\n",
        "X_train['num_self_hrefs'].fillna(value=num_self_hrefs_median,inplace=True)\n",
        "X_train['num_imgs'].fillna(value=num_imgs_median,inplace=True)\n",
        "X_train['num_keywords'].fillna(value=num_keywords_median,inplace=True)\n",
        "X_train['kw_min_min'].fillna(value=kw_min_min_median,inplace=True)\n",
        "X_train['kw_max_min'].fillna(value=kw_max_min_median,inplace=True)\n",
        "X_train['kw_avg_min'].fillna(value=kw_avg_min_median,inplace=True)\n",
        "X_train['kw_min_max'].fillna(value=kw_min_max_median,inplace=True)\n",
        "X_train['kw_max_max'].fillna(value=kw_max_max_median,inplace=True)\n",
        "X_train['kw_min_avg'].fillna(value=kw_min_avg_median,inplace=True)\n",
        "X_train['self_reference_avg_sharess'].fillna(value=self_reference_avg_sharess_median,inplace=True)\n",
        "X_train['LDA_00'].fillna(value=LDA_00_median,inplace=True)\n",
        "X_train['LDA_01'].fillna(value=LDA_01_median,inplace=True)\n",
        "X_train['LDA_02'].fillna(value=LDA_02_median,inplace=True)\n",
        "X_train['LDA_03'].fillna(value=LDA_03_median,inplace=True)\n",
        "X_train['global_sentiment_polarity'].fillna(value=global_sentiment_polarity_median,inplace=True)\n",
        "X_train['global_rate_positive_words'].fillna(value=global_rate_positive_words_median,inplace=True)\n",
        "X_train['global_rate_negative_words'].fillna(value=global_rate_negative_words_median,inplace=True)\n",
        "X_train['rate_positive_words'].fillna(value=rate_positive_words_median,inplace=True)\n",
        "X_train['rate_negative_words'].fillna(value=rate_negative_words_median,inplace=True)\n",
        "X_train['avg_positive_polarity'].fillna(value=avg_positive_polarity_median,inplace=True)\n",
        "X_train['avg_negative_polarity'].fillna(value=avg_negative_polarity_median,inplace=True)\n",
        "X_train['max_negative_polarity'].fillna(value=max_negative_polarity_median,inplace=True)\n",
        "X_train['min_negative_polarity'].fillna(value=min_negative_polarity_median,inplace=True)\n",
        "X_train['abs_title_sentiment_polarity'].fillna(value=abs_title_sentiment_polarity_median,inplace=True)\n",
        "#Reemplazamos en valid\n",
        "X_valid['n_unique_tokens'].fillna(value=n_unique_tokens_median,inplace=True)\n",
        "X_valid['LDA_01'].fillna(value=LDA_01_median,inplace=True)\n",
        "X_valid['global_rate_negative_words'].fillna(value=global_rate_negative_words_median,inplace=True)\n",
        "X_valid['max_positive_polarity'].fillna(value=max_positive_polarity_median,inplace=True)\n",
        "X_valid['max_negative_polarity'].fillna(value=max_negative_polarity_median,inplace=True) \n",
        "#Reemplazamos en test \n",
        "test_df['LDA_00'].fillna(value=LDA_00_median,inplace=True)\n",
        "test_df['LDA_01'].fillna(value=LDA_01_median,inplace=True)\n",
        "test_df['LDA_03'].fillna(value=LDA_01_median,inplace=True)\n",
        "test_df['global_rate_positive_words'].fillna(value=global_rate_positive_words_median,inplace=True)\n",
        "test_df['rate_negative_words'].fillna(value=rate_negative_words_median,inplace=True)\n",
        "test_df['content'].fillna(value=\"\",inplace=True)\n"
      ],
      "metadata": {
        "id": "wTYsXQ0pALBg"
      },
      "execution_count": null,
      "outputs": []
    },
    {
      "cell_type": "code",
      "source": [
        "# imputacion de nulos para variables nominales \n",
        "def nominal_nulls(column,columns_names,dataset):\n",
        "  nulls_index = dataset.index[dataset[column].isnull()].to_list()\n",
        "  for index in nulls_index:\n",
        "    for name in columns_names:\n",
        "      if dataset.loc[index,name]:\n",
        "        dataset.at[index,column] = 0.0\n",
        "      else:\n",
        "        dataset.at[index,column] = 1.0"
      ],
      "metadata": {
        "id": "-4e8idY9Bf6y"
      },
      "execution_count": null,
      "outputs": []
    },
    {
      "cell_type": "code",
      "source": [
        "channels_list = list([\"data_channel_is_lifestyle\",\"data_channel_is_entertainment\",\"data_channel_is_bus\",\"data_channel_is_socmed\",\"data_channel_is_tech\",\"data_channel_is_world\"])\n",
        "days_list = list(['weekday_is_monday','weekday_is_tuesday','weekday_is_wednesday','weekday_is_thursday','weekday_is_friday','weekday_is_saturday','weekday_is_sunday'])"
      ],
      "metadata": {
        "id": "7xkrbU8JGqAM"
      },
      "execution_count": null,
      "outputs": []
    },
    {
      "cell_type": "code",
      "source": [
        "nominal_nulls('data_channel_is_bus',channels_list,X_train)\n",
        "nominal_nulls('data_channel_is_socmed',channels_list,X_train)\n",
        "nominal_nulls('data_channel_is_tech',channels_list,X_train)\n",
        "nominal_nulls('weekday_is_monday',days_list,X_train)\n",
        "nominal_nulls('weekday_is_tuesday',days_list,X_train)\n",
        "nominal_nulls('weekday_is_wednesday',days_list,X_train)\n",
        "nominal_nulls('weekday_is_friday',days_list,X_train)\n",
        "nominal_nulls('weekday_is_saturday',days_list,X_train)\n",
        "nominal_nulls('weekday_is_thursday',days_list,test_df)"
      ],
      "metadata": {
        "id": "s1M63vjkKa1O"
      },
      "execution_count": null,
      "outputs": []
    },
    {
      "cell_type": "code",
      "source": [
        "#dividimos el set de test\n",
        "X_test = test_df.drop(columns=['popular','shares','timedelta','url'])\n",
        "y_test = test_df[test_df.columns[-2]]"
      ],
      "metadata": {
        "id": "Z62CjAKDCG2h"
      },
      "execution_count": null,
      "outputs": []
    },
    {
      "cell_type": "code",
      "source": [
        "ohe_surprise1 = OneHotEncoder(drop='first')\n",
        "encoded_surprise1 = ohe_surprise1.fit_transform(X_train[['surprise1']]).todense().astype(int)\n",
        "encoded_surprise1_valid = ohe_surprise1.transform(X_valid[['surprise1']]).todense().astype(int)\n",
        "encoded_surprise1_test = ohe_surprise1.transform(X_test[['surprise1']]).todense().astype(int)"
      ],
      "metadata": {
        "id": "MwIuogTmtBjz"
      },
      "execution_count": null,
      "outputs": []
    },
    {
      "cell_type": "code",
      "source": [
        "count_vectorizer = CountVectorizer(lowercase=True,max_features=100,stop_words='english')\n",
        "encoded_content = count_vectorizer.fit_transform(X_train['content']).toarray()\n",
        "encoded_content_valid = count_vectorizer.transform(X_valid['content']).toarray()\n",
        "encoded_content_test = count_vectorizer.transform(X_test['content']).toarray()"
      ],
      "metadata": {
        "id": "LvNLWfxx1Xq2"
      },
      "execution_count": null,
      "outputs": []
    },
    {
      "cell_type": "code",
      "source": [
        "X_train.content=encoded_content\n",
        "X_valid.content=encoded_content_valid\n",
        "X_test.content=encoded_content_test"
      ],
      "metadata": {
        "id": "QQCOoiu_1nHl"
      },
      "execution_count": null,
      "outputs": []
    },
    {
      "cell_type": "code",
      "source": [
        "X_train.surprise1 = encoded_surprise1\n",
        "X_valid.surprise1 = encoded_surprise1_valid\n",
        "X_test.surprise1 = encoded_surprise1_test"
      ],
      "metadata": {
        "id": "BPiypv53tFln"
      },
      "execution_count": null,
      "outputs": []
    },
    {
      "cell_type": "code",
      "source": [
        "bin_enc_surprise2 = LabelBinarizer()\n",
        "encoded_surprise2 = bin_enc_surprise2.fit_transform(X_train['surprise2'])\n",
        "encoded_valid_surprise2 = bin_enc_surprise2.transform(X_valid['surprise2'])\n",
        "encoded_test_surprise2 = bin_enc_surprise2.transform(X_test['surprise2'])"
      ],
      "metadata": {
        "id": "8WTQVhcstG00"
      },
      "execution_count": null,
      "outputs": []
    },
    {
      "cell_type": "code",
      "source": [
        "X_train.surprise2 = encoded_surprise2\n",
        "X_valid.surprise2 = encoded_valid_surprise2\n",
        "X_test.surprise2 = encoded_test_surprise2"
      ],
      "metadata": {
        "id": "vdDmoHMUtk8l"
      },
      "execution_count": null,
      "outputs": []
    },
    {
      "cell_type": "markdown",
      "source": [
        "Busco hiper parametros para el modelo usando randon search "
      ],
      "metadata": {
        "id": "7oUuDhlG7U7M"
      }
    },
    {
      "cell_type": "code",
      "source": [
        "new_model=LogisticRegression(random_state=42)\n",
        "\n",
        "params = { 'penalty' : ['l2','none'],\n",
        "           'C' : (1,2,4,5),\n",
        "           'solver'   : ['newton-cg','sag','lbfgs','saga'],\n",
        "           'max_iter' : (300,400,500)          \n",
        "}\n",
        "\n",
        "randm_src = RandomizedSearchCV(estimator=new_model, param_distributions = params,cv=2,n_iter=10,n_jobs=-1,scoring='roc_auc',random_state=42)"
      ],
      "metadata": {
        "id": "I5vGJCidu0MA"
      },
      "execution_count": null,
      "outputs": []
    },
    {
      "cell_type": "code",
      "source": [
        "randm_src.fit(X_train, y_train)"
      ],
      "metadata": {
        "id": "ncm-goUxu-0l"
      },
      "execution_count": null,
      "outputs": []
    },
    {
      "cell_type": "code",
      "source": [
        "new_preds= randm_src.predict(X_valid)"
      ],
      "metadata": {
        "id": "4niWLnrRu4DB"
      },
      "execution_count": null,
      "outputs": []
    },
    {
      "cell_type": "code",
      "source": [
        "mean_absolute_error(y_valid, new_preds)"
      ],
      "metadata": {
        "colab": {
          "base_uri": "https://localhost:8080/"
        },
        "id": "604SwesAvjhB",
        "outputId": "8b777ba5-8a62-4f4c-f93b-c147d851177b"
      },
      "execution_count": null,
      "outputs": [
        {
          "output_type": "execute_result",
          "data": {
            "text/plain": [
              "0.1705665024630542"
            ]
          },
          "metadata": {},
          "execution_count": 23
        }
      ]
    },
    {
      "cell_type": "code",
      "source": [
        "proba_preds_valid = randm_src.predict_proba(X_valid)[:,1]\n",
        "roc_auc_score(y_valid, proba_preds_valid)"
      ],
      "metadata": {
        "colab": {
          "base_uri": "https://localhost:8080/"
        },
        "id": "jLqTy70Bvvav",
        "outputId": "4691b6e2-8040-4624-86a3-0c7a6b0d78ac"
      },
      "execution_count": null,
      "outputs": [
        {
          "output_type": "execute_result",
          "data": {
            "text/plain": [
              "0.7148445723574636"
            ]
          },
          "metadata": {},
          "execution_count": 24
        }
      ]
    },
    {
      "cell_type": "markdown",
      "source": [
        "Evaluando el modelo en test "
      ],
      "metadata": {
        "id": "1eVtX8Tn6VVU"
      }
    },
    {
      "cell_type": "code",
      "source": [
        "test_preds= randm_src.predict(X_test)\n",
        "mean_absolute_error(y_test, test_preds)"
      ],
      "metadata": {
        "id": "jVIgkaJEtBNu",
        "colab": {
          "base_uri": "https://localhost:8080/"
        },
        "outputId": "6d58db56-4bb1-4359-c3c9-a7aa0e517b21"
      },
      "execution_count": null,
      "outputs": [
        {
          "output_type": "execute_result",
          "data": {
            "text/plain": [
              "0.16302436573725196"
            ]
          },
          "metadata": {},
          "execution_count": 25
        }
      ]
    },
    {
      "cell_type": "code",
      "source": [
        "proba_preds_test = randm_src.predict_proba(X_test)[:,1]\n",
        "roc_auc_score(y_test, proba_preds_test)"
      ],
      "metadata": {
        "colab": {
          "base_uri": "https://localhost:8080/"
        },
        "id": "-WDIOK0TcNev",
        "outputId": "3b707509-d01d-499b-c1cc-4f37cdca1751"
      },
      "execution_count": null,
      "outputs": [
        {
          "output_type": "execute_result",
          "data": {
            "text/plain": [
              "0.7083017985879345"
            ]
          },
          "metadata": {},
          "execution_count": 26
        }
      ]
    },
    {
      "cell_type": "code",
      "source": [
        "urls = test_df[test_df.columns[0]]\n",
        "probas = pd.Series(proba_preds_test) "
      ],
      "metadata": {
        "id": "GhjNP5BUC2UA"
      },
      "execution_count": null,
      "outputs": []
    },
    {
      "cell_type": "code",
      "source": [
        "entrega=pd.DataFrame(zip(urls,probas),columns=['url','proba'])"
      ],
      "metadata": {
        "id": "B7XMzVTpsS6Z"
      },
      "execution_count": null,
      "outputs": []
    },
    {
      "cell_type": "code",
      "source": [
        "entrega.to_csv('parte2.csv')"
      ],
      "metadata": {
        "id": "QfsKDeens083"
      },
      "execution_count": null,
      "outputs": []
    },
    {
      "cell_type": "markdown",
      "source": [
        "Grafico las columnas mas importantes"
      ],
      "metadata": {
        "id": "JGXgmUw16IBz"
      }
    },
    {
      "cell_type": "code",
      "source": [
        "mod=randm_src.best_estimator_.coef_"
      ],
      "metadata": {
        "id": "ogDJxx91Ay-2"
      },
      "execution_count": null,
      "outputs": []
    },
    {
      "cell_type": "code",
      "source": [
        "odds = np.exp(mod[0])\n",
        "importance=pd.DataFrame(odds, \n",
        "             X_train.columns, \n",
        "             columns=['coef'])\\\n",
        "            .sort_values(by='coef', ascending=False)"
      ],
      "metadata": {
        "id": "bfui4UubJJ1l"
      },
      "execution_count": null,
      "outputs": []
    },
    {
      "cell_type": "code",
      "source": [
        "for_plot=importance.head(10)"
      ],
      "metadata": {
        "id": "0DD234wxtHL0"
      },
      "execution_count": null,
      "outputs": []
    },
    {
      "cell_type": "code",
      "source": [
        "for_plot.reset_index(inplace=True)"
      ],
      "metadata": {
        "id": "SxVhOOo0tOMx"
      },
      "execution_count": null,
      "outputs": []
    },
    {
      "cell_type": "code",
      "source": [
        "plt.figure(dpi=150)\n",
        "fig = sns.barplot(data=for_plot , x='index',y='coef',color='blue')\n",
        "plt.xticks(rotation=85)\n",
        "plt.title('Importancia de las features\\n en la regresion logistica')\n",
        "plt.xlabel(\"Feature\")\n",
        "plt.ylabel(\"Coeficiente\")\n",
        "plt.savefig('visuParte2.jpg', dpi=200, bbox_inches='tight', pad_inches=0.5)"
      ],
      "metadata": {
        "colab": {
          "base_uri": "https://localhost:8080/",
          "height": 882
        },
        "id": "i_W3niACtmWi",
        "outputId": "c0123aab-760b-4ca2-e3ea-5512297aeaa4"
      },
      "execution_count": null,
      "outputs": [
        {
          "output_type": "display_data",
          "data": {
            "text/plain": [
              "<Figure size 900x600 with 1 Axes>"
            ],
            "image/png": "[encoded data removed]"
          },
          "metadata": {
            "needs_background": "light"
          }
        }
      ]
    }
  ]
}