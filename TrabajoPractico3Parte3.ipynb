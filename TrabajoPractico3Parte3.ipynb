{
  "cells": [
    {
      "cell_type": "markdown",
      "metadata": {
        "id": "view-in-github",
        "colab_type": "text"
      },
      "source": [
        "<a href=\"https://colab.research.google.com/github/CanteroAlann/machine-learning-projects/blob/main/TrabajoPractico3Parte3.ipynb\" target=\"_parent\"><img src=\"https://colab.research.google.com/assets/colab-badge.svg\" alt=\"Open In Colab\"/></a>"
      ]
    },
    {
      "cell_type": "code",
      "execution_count": null,
      "metadata": {
        "id": "xXACLgnIDRGa"
      },
      "outputs": [],
      "source": [
        "!pip install --upgrade category_encoders"
      ]
    },
    {
      "cell_type": "code",
      "execution_count": null,
      "metadata": {
        "id": "vSK9E2vFMIpX"
      },
      "outputs": [],
      "source": [
        "import pandas as pd \n",
        "from sklearn.model_selection import train_test_split\n",
        "from sklearn.model_selection import RandomizedSearchCV\n",
        "from sklearn.preprocessing import OneHotEncoder\n",
        "from sklearn.preprocessing import LabelBinarizer\n",
        "from category_encoders import TargetEncoder\n",
        "import xgboost as xgb\n",
        "from sklearn.feature_extraction.text import  CountVectorizer\n",
        "from sklearn.ensemble import RandomForestClassifier\n",
        "from sklearn.metrics import mean_absolute_error, mean_absolute_percentage_error\n",
        "from sklearn.metrics import roc_auc_score\n",
        "from sklearn.ensemble import GradientBoostingClassifier"
      ]
    },
    {
      "cell_type": "code",
      "execution_count": null,
      "metadata": {
        "id": "Rgw2gnH9Nhgt"
      },
      "outputs": [],
      "source": [
        "train_df=pd.read_parquet('/content/drive/MyDrive/tp3 orga/train')"
      ]
    },
    {
      "cell_type": "code",
      "execution_count": null,
      "metadata": {
        "id": "ubGH94Ln7J3l"
      },
      "outputs": [],
      "source": [
        "train_df['popular'] = train_df['popular'].transform(lambda x : int(x))"
      ]
    },
    {
      "cell_type": "code",
      "execution_count": null,
      "metadata": {
        "id": "AnKYNlPJNnYg"
      },
      "outputs": [],
      "source": [
        "test_df = pd.read_parquet('/content/drive/MyDrive/tp3 orga/test')"
      ]
    },
    {
      "cell_type": "code",
      "execution_count": null,
      "metadata": {
        "id": "2O2OKneH7OED"
      },
      "outputs": [],
      "source": [
        "test_df['popular'] = test_df['popular'].transform(lambda x : int(x))"
      ]
    },
    {
      "cell_type": "code",
      "execution_count": null,
      "metadata": {
        "id": "A-fwAq8b7Vut"
      },
      "outputs": [],
      "source": [
        "#dividimos el dataset usando la siguiente condicion \n",
        "mask_train = train_df['timedelta'] > 120\n",
        "X_train = train_df[mask_train]\n",
        "X_valid = train_df[~mask_train]\n",
        "y_train = X_train[X_train.columns[-2]]\n",
        "y_valid = X_valid[X_valid.columns[-2]]\n",
        "X_train.drop(columns=['popular','shares','timedelta','url'],inplace=True)\n",
        "X_valid.drop(columns=['popular','shares','timedelta','url'],inplace=True)"
      ]
    },
    {
      "cell_type": "markdown",
      "metadata": {
        "id": "QNFH1mYlDze9"
      },
      "source": [
        "Imputacion de nulos "
      ]
    },
    {
      "cell_type": "code",
      "execution_count": null,
      "metadata": {
        "id": "EbA_iBonNoCe"
      },
      "outputs": [],
      "source": [
        "#calculo la mediana para los valores numericos\n",
        "title_subjectivity_median = X_train['title_subjectivity'].median()\n",
        "abs_title_median = X_train['abs_title_subjectivity'].median()\n",
        "max_positive_polarity_median = X_train['max_positive_polarity'].median()\n",
        "n_tokens_title_median=X_train['n_tokens_title'].median()\n",
        "n_tokens_content_median=X_train['n_tokens_content'].median()\n",
        "n_unique_tokens_median=X_train['n_unique_tokens'].median()\n",
        "num_videos_media=X_train['num_videos'].median()\n",
        "n_non_stop_words_median=X_train['n_non_stop_words'].median()\n",
        "n_non_stop_unique_tokens_median =X_train['n_non_stop_unique_tokens'].median()\n",
        "num_hrefs_median=X_train['num_hrefs'].median()\n",
        "num_self_hrefs_median = X_train['num_self_hrefs'].median()\n",
        "num_imgs_median=X_train['num_imgs'].median()\n",
        "num_keywords_median=X_train['num_keywords'].median()\n",
        "kw_min_min_median=X_train['kw_min_min'].median()\n",
        "kw_max_min_median=X_train['kw_max_min'].median()\n",
        "kw_avg_min_median=X_train['kw_avg_min'].median()\n",
        "kw_min_max_median=X_train['kw_min_max'].median()\n",
        "kw_max_max_median=X_train['kw_max_max'].median()\n",
        "kw_min_avg_median=X_train['kw_min_avg'].median()\n",
        "self_reference_avg_sharess_median=X_train['self_reference_avg_sharess'].median()\n",
        "LDA_00_median=X_train['LDA_00'].median()\n",
        "LDA_01_median=X_train['LDA_01'].median()\n",
        "LDA_02_median=X_train['LDA_02'].median()\n",
        "LDA_03_median=X_train['LDA_03'].median()\n",
        "global_sentiment_polarity_median=X_train['global_sentiment_polarity'].median()\n",
        "global_rate_positive_words_median=X_train['global_rate_positive_words'].median()\n",
        "global_rate_negative_words_median=X_train['global_rate_negative_words'].median()\n",
        "rate_positive_words_median=X_train['rate_positive_words'].median()\n",
        "rate_negative_words_median=X_train['rate_negative_words'].median()\n",
        "avg_positive_polarity_median=X_train['avg_positive_polarity'].median()\n",
        "avg_negative_polarity_median=X_train['avg_negative_polarity'].median()\n",
        "max_negative_polarity_median=X_train['max_negative_polarity'].median()\n",
        "min_negative_polarity_median=X_train['min_negative_polarity'].median()\n",
        "abs_title_sentiment_polarity_median=X_train['abs_title_sentiment_polarity'].median()"
      ]
    },
    {
      "cell_type": "code",
      "execution_count": null,
      "metadata": {
        "id": "bGZF9GiuOMcW"
      },
      "outputs": [],
      "source": [
        "# reemplazamos en train \n",
        "X_train['title_subjectivity'].fillna(value=title_subjectivity_median,inplace=True)\n",
        "X_train['abs_title_subjectivity'].fillna(value=abs_title_median,inplace=True)\n",
        "X_train['max_positive_polarity'].fillna(value=max_positive_polarity_median,inplace=True)\n",
        "X_train['content'].fillna(value=\"\",inplace=True)\n",
        "X_train['n_tokens_title'].fillna(value=n_tokens_title_median,inplace=True)\n",
        "X_train['n_tokens_content'].fillna(value=n_tokens_content_median,inplace=True)\n",
        "X_train['n_unique_tokens'].fillna(value=n_unique_tokens_median,inplace=True)\n",
        "X_train['num_videos'].fillna(value=num_videos_media,inplace=True)\n",
        "X_train['n_non_stop_words'].fillna(value=n_non_stop_words_median,inplace=True)\n",
        "X_train['n_non_stop_unique_tokens'].fillna(value=n_non_stop_unique_tokens_median,inplace=True)\n",
        "X_train['num_hrefs'].fillna(value=num_hrefs_median,inplace=True)\n",
        "X_train['num_self_hrefs'].fillna(value=num_self_hrefs_median,inplace=True)\n",
        "X_train['num_imgs'].fillna(value=num_imgs_median,inplace=True)\n",
        "X_train['num_keywords'].fillna(value=num_keywords_median,inplace=True)\n",
        "X_train['kw_min_min'].fillna(value=kw_min_min_median,inplace=True)\n",
        "X_train['kw_max_min'].fillna(value=kw_max_min_median,inplace=True)\n",
        "X_train['kw_avg_min'].fillna(value=kw_avg_min_median,inplace=True)\n",
        "X_train['kw_min_max'].fillna(value=kw_min_max_median,inplace=True)\n",
        "X_train['kw_max_max'].fillna(value=kw_max_max_median,inplace=True)\n",
        "X_train['kw_min_avg'].fillna(value=kw_min_avg_median,inplace=True)\n",
        "X_train['self_reference_avg_sharess'].fillna(value=self_reference_avg_sharess_median,inplace=True)\n",
        "X_train['LDA_00'].fillna(value=LDA_00_median,inplace=True)\n",
        "X_train['LDA_01'].fillna(value=LDA_01_median,inplace=True)\n",
        "X_train['LDA_02'].fillna(value=LDA_02_median,inplace=True)\n",
        "X_train['LDA_03'].fillna(value=LDA_03_median,inplace=True)\n",
        "X_train['global_sentiment_polarity'].fillna(value=global_sentiment_polarity_median,inplace=True)\n",
        "X_train['global_rate_positive_words'].fillna(value=global_rate_positive_words_median,inplace=True)\n",
        "X_train['global_rate_negative_words'].fillna(value=global_rate_negative_words_median,inplace=True)\n",
        "X_train['rate_positive_words'].fillna(value=rate_positive_words_median,inplace=True)\n",
        "X_train['rate_negative_words'].fillna(value=rate_negative_words_median,inplace=True)\n",
        "X_train['avg_positive_polarity'].fillna(value=avg_positive_polarity_median,inplace=True)\n",
        "X_train['avg_negative_polarity'].fillna(value=avg_negative_polarity_median,inplace=True)\n",
        "X_train['max_negative_polarity'].fillna(value=max_negative_polarity_median,inplace=True)\n",
        "X_train['min_negative_polarity'].fillna(value=min_negative_polarity_median,inplace=True)\n",
        "X_train['abs_title_sentiment_polarity'].fillna(value=abs_title_sentiment_polarity_median,inplace=True)\n",
        "#Reemplazamos en valid\n",
        "X_valid['n_unique_tokens'].fillna(value=n_unique_tokens_median,inplace=True)\n",
        "X_valid['LDA_01'].fillna(value=LDA_01_median,inplace=True)\n",
        "X_valid['global_rate_negative_words'].fillna(value=global_rate_negative_words_median,inplace=True)\n",
        "X_valid['max_positive_polarity'].fillna(value=max_positive_polarity_median,inplace=True)\n",
        "X_valid['max_negative_polarity'].fillna(value=max_negative_polarity_median,inplace=True) \n",
        "#Reemplazamos en test \n",
        "test_df['LDA_00'].fillna(value=LDA_00_median,inplace=True)\n",
        "test_df['LDA_01'].fillna(value=LDA_01_median,inplace=True)\n",
        "test_df['LDA_03'].fillna(value=LDA_01_median,inplace=True)\n",
        "test_df['global_rate_positive_words'].fillna(value=global_rate_positive_words_median,inplace=True)\n",
        "test_df['rate_negative_words'].fillna(value=rate_negative_words_median,inplace=True)\n",
        "test_df['content'].fillna(value=\"\",inplace=True)"
      ]
    },
    {
      "cell_type": "code",
      "execution_count": null,
      "metadata": {
        "id": "pPhXwgAN77Yq"
      },
      "outputs": [],
      "source": [
        "# imputacion de nulos para variables nominales \n",
        "def nominal_nulls(column,columns_names,dataset):\n",
        "  nulls_index = dataset.index[dataset[column].isnull()].to_list()\n",
        "  for index in nulls_index:\n",
        "    for name in columns_names:\n",
        "      if dataset.loc[index,name]:\n",
        "        dataset.at[index,column] = 0.0\n",
        "      else:\n",
        "        dataset.at[index,column] = 1.0"
      ]
    },
    {
      "cell_type": "code",
      "execution_count": null,
      "metadata": {
        "id": "J3vKl-4d7_3s"
      },
      "outputs": [],
      "source": [
        "channels_list = list([\"data_channel_is_lifestyle\",\"data_channel_is_entertainment\",\"data_channel_is_bus\",\"data_channel_is_socmed\",\"data_channel_is_tech\",\"data_channel_is_world\"])\n",
        "days_list = list(['weekday_is_monday','weekday_is_tuesday','weekday_is_wednesday','weekday_is_thursday','weekday_is_friday','weekday_is_saturday','weekday_is_sunday'])"
      ]
    },
    {
      "cell_type": "code",
      "execution_count": null,
      "metadata": {
        "id": "jD5I1hOI8DRK"
      },
      "outputs": [],
      "source": [
        "nominal_nulls('data_channel_is_bus',channels_list,X_train)\n",
        "nominal_nulls('data_channel_is_socmed',channels_list,X_train)\n",
        "nominal_nulls('data_channel_is_tech',channels_list,X_train)\n",
        "nominal_nulls('weekday_is_monday',days_list,X_train)\n",
        "nominal_nulls('weekday_is_tuesday',days_list,X_train)\n",
        "nominal_nulls('weekday_is_wednesday',days_list,X_train)\n",
        "nominal_nulls('weekday_is_friday',days_list,X_train)\n",
        "nominal_nulls('weekday_is_saturday',days_list,X_train)\n",
        "nominal_nulls('weekday_is_thursday',days_list,test_df)"
      ]
    },
    {
      "cell_type": "code",
      "execution_count": null,
      "metadata": {
        "id": "EYjDGcyD8F1I"
      },
      "outputs": [],
      "source": [
        "#dividimos el set de test\n",
        "X_test = test_df.drop(columns=['popular','shares','timedelta','url'])\n",
        "y_test = test_df[test_df.columns[-2]]"
      ]
    },
    {
      "cell_type": "code",
      "execution_count": null,
      "metadata": {
        "id": "WIlEc3Kl8JXS"
      },
      "outputs": [],
      "source": [
        "ohe_surprise1 = OneHotEncoder(drop='first')\n",
        "encoded_surprise1 = ohe_surprise1.fit_transform(X_train[['surprise1']]).todense().astype(int)\n",
        "encoded_surprise1_valid = ohe_surprise1.transform(X_valid[['surprise1']]).todense().astype(int)\n",
        "encoded_surprise1_test = ohe_surprise1.transform(X_test[['surprise1']]).todense().astype(int)"
      ]
    },
    {
      "cell_type": "code",
      "execution_count": null,
      "metadata": {
        "id": "LnsESJCF8Lnz"
      },
      "outputs": [],
      "source": [
        "count_vectorizer = CountVectorizer(lowercase=True,max_features=100,stop_words='english')\n",
        "encoded_content = count_vectorizer.fit_transform(X_train['content']).toarray()\n",
        "encoded_content_valid = count_vectorizer.transform(X_valid['content']).toarray()\n",
        "encoded_content_test = count_vectorizer.transform(X_test['content']).toarray()"
      ]
    },
    {
      "cell_type": "code",
      "execution_count": null,
      "metadata": {
        "id": "G_gxwcpk8arF"
      },
      "outputs": [],
      "source": [
        "X_train.content=encoded_content\n",
        "X_valid.content=encoded_content_valid\n",
        "X_test.content=encoded_content_test"
      ]
    },
    {
      "cell_type": "code",
      "execution_count": null,
      "metadata": {
        "id": "FHL-o77K8dQd"
      },
      "outputs": [],
      "source": [
        "X_train.surprise1 = encoded_surprise1\n",
        "X_valid.surprise1 = encoded_surprise1_valid\n",
        "X_test.surprise1 = encoded_surprise1_test"
      ]
    },
    {
      "cell_type": "code",
      "execution_count": null,
      "metadata": {
        "id": "j_oO4mw18gAf"
      },
      "outputs": [],
      "source": [
        "bin_enc_surprise2 = LabelBinarizer()\n",
        "encoded_surprise2 = bin_enc_surprise2.fit_transform(X_train['surprise2'])\n",
        "encoded_valid_surprise2 = bin_enc_surprise2.transform(X_valid['surprise2'])\n",
        "encoded_test_surprise2 = bin_enc_surprise2.transform(X_test['surprise2'])"
      ]
    },
    {
      "cell_type": "code",
      "execution_count": null,
      "metadata": {
        "id": "SJ4Hz0628h90"
      },
      "outputs": [],
      "source": [
        "X_train.surprise2 = encoded_surprise2\n",
        "X_valid.surprise2 = encoded_valid_surprise2\n",
        "X_test.surprise2 = encoded_test_surprise2"
      ]
    },
    {
      "cell_type": "markdown",
      "metadata": {
        "id": "tWhnguzhDpy6"
      },
      "source": [
        "Usamos el mismo modelo buscando los hiper parametros"
      ]
    },
    {
      "cell_type": "code",
      "execution_count": null,
      "metadata": {
        "id": "UfZf74i8pqzi"
      },
      "outputs": [],
      "source": [
        "from sklearn.model_selection import GridSearchCV\n",
        "# Create the parameter grid based on the results of random search \n",
        "param_grid = {\n",
        "    'learning_rate': (0.2,0.3,0.4),\n",
        "    'max_depth': [6,10,20,30,50],\n",
        "    'min_split_loss' : (0,2,4),\n",
        "    'colsample_bytree': (0.2,0.4,1),\n",
        "    'n_estimators': [5,20,30,40,100,150]\n",
        "}\n",
        "# Create a based model\n",
        "xgb = xgb.XGBClassifier(random_state=20)\n",
        "# Instantiate the grid search model\n",
        "grid_search = GridSearchCV(estimator = xgb, param_grid = param_grid, \n",
        "                          cv = 2, n_jobs = -1,scoring='roc_auc')"
      ]
    },
    {
      "cell_type": "code",
      "execution_count": null,
      "metadata": {
        "colab": {
          "base_uri": "https://localhost:8080/"
        },
        "id": "ZMx-aPpcrPH9",
        "outputId": "8a0a49b2-4e15-4c51-95bc-2f0b0a68a666"
      },
      "outputs": [
        {
          "output_type": "execute_result",
          "data": {
            "text/plain": [
              "GridSearchCV(cv=2, estimator=XGBClassifier(random_state=20), n_jobs=-1,\n",
              "             param_grid={'colsample_bytree': (0.2, 0.4, 1),\n",
              "                         'learning_rate': (0.2, 0.3, 0.4),\n",
              "                         'max_depth': [6, 10, 20, 30, 50],\n",
              "                         'min_split_loss': (0, 2, 4),\n",
              "                         'n_estimators': [5, 20, 30, 40, 100, 150]},\n",
              "             scoring='roc_auc')"
            ]
          },
          "metadata": {},
          "execution_count": 21
        }
      ],
      "source": [
        "grid_search.fit(X_train,y_train)"
      ]
    },
    {
      "cell_type": "code",
      "execution_count": null,
      "metadata": {
        "colab": {
          "base_uri": "https://localhost:8080/"
        },
        "id": "uN8hclncAiiJ",
        "outputId": "b65f1b09-8cf4-4e4e-dfdb-177fdcaa0f28"
      },
      "outputs": [
        {
          "output_type": "execute_result",
          "data": {
            "text/plain": [
              "0.16964285714285715"
            ]
          },
          "metadata": {},
          "execution_count": 24
        }
      ],
      "source": [
        "preds = grid_search.predict(X_valid)\n",
        "mean_absolute_error(y_valid, preds)"
      ]
    },
    {
      "cell_type": "code",
      "execution_count": null,
      "metadata": {
        "colab": {
          "base_uri": "https://localhost:8080/"
        },
        "id": "-XG7MOgLA6S_",
        "outputId": "95fb8f87-e5ff-406b-c08e-10d0b7057613"
      },
      "outputs": [
        {
          "output_type": "execute_result",
          "data": {
            "text/plain": [
              "0.726993977428682"
            ]
          },
          "metadata": {},
          "execution_count": 25
        }
      ],
      "source": [
        "proba_preds = grid_search.predict_proba(X_valid)[:,1]\n",
        "roc_auc_score(y_valid,proba_preds)"
      ]
    }
  ],
  "metadata": {
    "colab": {
      "provenance": [],
      "mount_file_id": "15LqNCt8VxK7gVUUN9xTXuNq-m_KZg6wo",
      "authorship_tag": "ABX9TyPoKJpFMMbf/LVYuln8+g2H",
      "include_colab_link": true
    },
    "kernelspec": {
      "display_name": "Python 3",
      "name": "python3"
    },
    "language_info": {
      "name": "python"
    }
  },
  "nbformat": 4,
  "nbformat_minor": 0
}